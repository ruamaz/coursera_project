{
  "nbformat": 4,
  "nbformat_minor": 0,
  "metadata": {
    "colab": {
      "name": "project_intro.ipynb",
      "provenance": [],
      "authorship_tag": "ABX9TyMoglhPFR8lSelZwuFMlhtM"
    },
    "kernelspec": {
      "name": "python3",
      "display_name": "Python 3"
    }
  },
  "cells": [
    {
      "cell_type": "markdown",
      "metadata": {
        "id": "Ta9qWK_mOEYv"
      },
      "source": [
        "# Introduction / Problem descrition"
      ]
    },
    {
      "cell_type": "markdown",
      "metadata": {
        "id": "RZf9f8agNqQI"
      },
      "source": [
        "In this project, we will try to find an optimal location for a new bar. Specifically, this report will be targeted to stakeholders interested in opening a bar in Moscow city centre, Russia.\n",
        "\n",
        "Since there are many bars in the city centre, which are placed around a crowded location, the project will focus on the least occupied areas. \n",
        "However, the preference for avoiding no-crowded presents.\n",
        "\n",
        "In simple term, it should be far enough from other bars but still in a crowded area. \n",
        "\n",
        "Bars and other spots location data obtained from Foursquare API "
      ]
    },
    {
      "cell_type": "markdown",
      "metadata": {
        "id": "hMsKsG_Ejopo"
      },
      "source": [
        "#Methodology\n"
      ]
    },
    {
      "cell_type": "markdown",
      "metadata": {
        "id": "HkcCRGAAjlRh"
      },
      "source": [
        "The methodology considers the following steps :\n",
        "\n",
        "Getting locations of bars in the city centre\n",
        "Cluster the locations to get *crowded areas * ( here the idea is that existing bars already locates around profitable areas )\n",
        "Find the least dense cluster (area/number of bars )\n",
        "For the selected cluster find the spot which further away from other bars\n",
        "Check if any offices around proposed locations ( i.e. proposed bar location should be close to some offices as spot of people attraction)\n",
        "\n",
        "Data:\n",
        "\n",
        "Foursquare API will be used to access bars location in the city, a filter query will be applied to obtain relevant information\n",
        "As mentioned in methodology , additional nearby spots data would require to make final recomendation. The same data source will be used to get the data "
      ]
    }
  ]
}