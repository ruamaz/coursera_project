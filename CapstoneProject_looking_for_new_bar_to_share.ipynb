{
  "nbformat": 4,
  "nbformat_minor": 0,
  "metadata": {
    "colab": {
      "name": "CapstoneProject_looking_for_new_bar_to share.ipynb",
      "provenance": [],
      "authorship_tag": "ABX9TyO2dZPYoDShSTCHab15wM26",
      "include_colab_link": true
    },
    "kernelspec": {
      "name": "python3",
      "display_name": "Python 3"
    }
  },
  "cells": [
    {
      "cell_type": "markdown",
      "metadata": {
        "id": "view-in-github",
        "colab_type": "text"
      },
      "source": [
        "<a href=\"https://colab.research.google.com/github/ruamaz/coursera_project/blob/main/CapstoneProject_looking_for_new_bar_to_share.ipynb\" target=\"_parent\"><img src=\"https://colab.research.google.com/assets/colab-badge.svg\" alt=\"Open In Colab\"/></a>"
      ]
    },
    {
      "cell_type": "markdown",
      "metadata": {
        "id": "Ta9qWK_mOEYv"
      },
      "source": [
        "# Introduction / Problem descrition"
      ]
    },
    {
      "cell_type": "markdown",
      "metadata": {
        "id": "RZf9f8agNqQI"
      },
      "source": [
        "In this project, we will try to find an optimal location for a new bar. Specifically, this report will be targeted to stakeholders interested in opening a bar in Moscow city centre, Russia.\n",
        "\n",
        "Since there are many bars in the city centre, which are placed around a crowded location, the project will focus on the least occupied areas. \n",
        "However, the preference for avoiding no-crowded presents.\n",
        "\n",
        "In simple term, it should be far enough from other bars but still in a crowded area. \n",
        "\n",
        "Bars and other spots location data obtained from Foursquare API "
      ]
    },
    {
      "cell_type": "markdown",
      "metadata": {
        "id": "YeUWD-bCRKz4"
      },
      "source": [
        "# Methodology"
      ]
    },
    {
      "cell_type": "markdown",
      "metadata": {
        "id": "pLXnFK_SROiD"
      },
      "source": [
        "The methodology considers the following steps :\n",
        "\n",
        "\n",
        "*   Getting locations of bars in the city centre\n",
        "*   Cluster the locations to get *crowded areas * ( here the idea is that existing bars already locates around profitable areas )\n",
        "*   Find the least dense cluster (area/number of bars )\n",
        "*   For the selected cluster find the spot which further away from other bars\n",
        "*   Check if any offices around proposed locations ( i.e. proposed bar location should be close to some offices as spot of people attraction)\n",
        "\n",
        "\n",
        "\n"
      ]
    },
    {
      "cell_type": "markdown",
      "metadata": {
        "id": "jai1OnVGNP8z"
      },
      "source": [
        "# Import libraries for use"
      ]
    },
    {
      "cell_type": "code",
      "metadata": {
        "id": "XY3MHmNDl6xp",
        "outputId": "0f7bc326-cc5a-4b2c-9942-05a80800a35a",
        "colab": {
          "base_uri": "https://localhost:8080/",
          "height": 408
        }
      },
      "source": [
        "import pandas as pd\n",
        "\n",
        "! pip install folium==0.5.0\n",
        "import folium # plotting library\n",
        "\n",
        "# import k-means from clustering stage\n",
        "from sklearn.cluster import KMeans\n",
        "\n",
        "# Matplotlib and associated plotting modules\n",
        "import numpy as np\n",
        "import matplotlib.cm as cm\n",
        "import matplotlib.colors as colors\n",
        "\n",
        "import requests\n",
        "\n",
        "from geopy.geocoders import Nominatim\n",
        "import folium\n",
        "import json\n",
        "from pandas.io.json import json_normalize # tranform JSON file into a pandas dataframe\n"
      ],
      "execution_count": 1,
      "outputs": [
        {
          "output_type": "stream",
          "text": [
            "Collecting folium==0.5.0\n",
            "\u001b[?25l  Downloading https://files.pythonhosted.org/packages/07/37/456fb3699ed23caa0011f8b90d9cad94445eddc656b601e6268090de35f5/folium-0.5.0.tar.gz (79kB)\n",
            "\r\u001b[K     |████▏                           | 10kB 21.2MB/s eta 0:00:01\r\u001b[K     |████████▎                       | 20kB 5.2MB/s eta 0:00:01\r\u001b[K     |████████████▍                   | 30kB 5.4MB/s eta 0:00:01\r\u001b[K     |████████████████▌               | 40kB 6.5MB/s eta 0:00:01\r\u001b[K     |████████████████████▊           | 51kB 6.3MB/s eta 0:00:01\r\u001b[K     |████████████████████████▉       | 61kB 6.9MB/s eta 0:00:01\r\u001b[K     |█████████████████████████████   | 71kB 7.9MB/s eta 0:00:01\r\u001b[K     |████████████████████████████████| 81kB 4.4MB/s \n",
            "\u001b[?25hRequirement already satisfied: branca in /usr/local/lib/python3.6/dist-packages (from folium==0.5.0) (0.4.1)\n",
            "Requirement already satisfied: jinja2 in /usr/local/lib/python3.6/dist-packages (from folium==0.5.0) (2.11.2)\n",
            "Requirement already satisfied: requests in /usr/local/lib/python3.6/dist-packages (from folium==0.5.0) (2.23.0)\n",
            "Requirement already satisfied: six in /usr/local/lib/python3.6/dist-packages (from folium==0.5.0) (1.15.0)\n",
            "Requirement already satisfied: MarkupSafe>=0.23 in /usr/local/lib/python3.6/dist-packages (from jinja2->folium==0.5.0) (1.1.1)\n",
            "Requirement already satisfied: certifi>=2017.4.17 in /usr/local/lib/python3.6/dist-packages (from requests->folium==0.5.0) (2020.6.20)\n",
            "Requirement already satisfied: chardet<4,>=3.0.2 in /usr/local/lib/python3.6/dist-packages (from requests->folium==0.5.0) (3.0.4)\n",
            "Requirement already satisfied: urllib3!=1.25.0,!=1.25.1,<1.26,>=1.21.1 in /usr/local/lib/python3.6/dist-packages (from requests->folium==0.5.0) (1.24.3)\n",
            "Requirement already satisfied: idna<3,>=2.5 in /usr/local/lib/python3.6/dist-packages (from requests->folium==0.5.0) (2.10)\n",
            "Building wheels for collected packages: folium\n",
            "  Building wheel for folium (setup.py) ... \u001b[?25l\u001b[?25hdone\n",
            "  Created wheel for folium: filename=folium-0.5.0-cp36-none-any.whl size=76240 sha256=69fb9b77a0bd8d9c5f0f5e18d61256bff2a58e9895739a3a73d5721e440283f4\n",
            "  Stored in directory: /root/.cache/pip/wheels/f8/98/ff/954791afc47740d554f0d9e5885fa09dd60c2265d42578e665\n",
            "Successfully built folium\n",
            "\u001b[31mERROR: datascience 0.10.6 has requirement folium==0.2.1, but you'll have folium 0.5.0 which is incompatible.\u001b[0m\n",
            "Installing collected packages: folium\n",
            "  Found existing installation: folium 0.8.3\n",
            "    Uninstalling folium-0.8.3:\n",
            "      Successfully uninstalled folium-0.8.3\n",
            "Successfully installed folium-0.5.0\n"
          ],
          "name": "stdout"
        }
      ]
    },
    {
      "cell_type": "code",
      "metadata": {
        "id": "K4SJXsmv6AG0",
        "outputId": "c33f776d-b00f-4f39-ad7e-a43600121e88",
        "colab": {
          "base_uri": "https://localhost:8080/",
          "height": 85
        }
      },
      "source": [
        "#Use geojson file to write out the features\n",
        "! pip install geojson\n",
        "from geojson import FeatureCollection, Feature, Polygon"
      ],
      "execution_count": 2,
      "outputs": [
        {
          "output_type": "stream",
          "text": [
            "Collecting geojson\n",
            "  Downloading https://files.pythonhosted.org/packages/e4/8d/9e28e9af95739e6d2d2f8d4bef0b3432da40b7c3588fbad4298c1be09e48/geojson-2.5.0-py2.py3-none-any.whl\n",
            "Installing collected packages: geojson\n",
            "Successfully installed geojson-2.5.0\n"
          ],
          "name": "stdout"
        }
      ]
    },
    {
      "cell_type": "code",
      "metadata": {
        "id": "dwvWt9IE8NHK"
      },
      "source": [
        "import os"
      ],
      "execution_count": 3,
      "outputs": []
    },
    {
      "cell_type": "code",
      "metadata": {
        "id": "zFxVviFk3ppC"
      },
      "source": [
        "from scipy.spatial import Voronoi, voronoi_plot_2d"
      ],
      "execution_count": 4,
      "outputs": []
    },
    {
      "cell_type": "code",
      "metadata": {
        "id": "Gx4g3KmEOwei"
      },
      "source": [
        "from scipy.spatial import ConvexHull, convex_hull_plot_2d"
      ],
      "execution_count": 5,
      "outputs": []
    },
    {
      "cell_type": "code",
      "metadata": {
        "id": "A6H8s0XgnE50"
      },
      "source": [
        "from sklearn.neighbors import NearestNeighbors\n",
        "from scipy.spatial import Delaunay\n"
      ],
      "execution_count": 6,
      "outputs": []
    },
    {
      "cell_type": "code",
      "metadata": {
        "id": "SUyow5EAktoO",
        "outputId": "710a19cc-dffb-43c3-ebc0-785f92fffbe8",
        "colab": {
          "base_uri": "https://localhost:8080/",
          "height": 204
        }
      },
      "source": [
        "!pip install https://github.com/barseghyanartur/transliterate/archive/stable.tar.gz\n",
        "from transliterate import translit"
      ],
      "execution_count": 37,
      "outputs": [
        {
          "output_type": "stream",
          "text": [
            "Collecting https://github.com/barseghyanartur/transliterate/archive/stable.tar.gz\n",
            "\u001b[?25l  Downloading https://github.com/barseghyanartur/transliterate/archive/stable.tar.gz\n",
            "\u001b[K     / 81kB 5.0MB/s\n",
            "\u001b[?25hRequirement already satisfied: six>=1.1.0 in /usr/local/lib/python3.6/dist-packages (from transliterate==1.10.2) (1.15.0)\n",
            "Building wheels for collected packages: transliterate\n",
            "  Building wheel for transliterate (setup.py) ... \u001b[?25l\u001b[?25hdone\n",
            "  Created wheel for transliterate: filename=transliterate-1.10.2-py2.py3-none-any.whl size=62397 sha256=e83fc4a1384752e85192c7dc6f1106fcb26ee41754bd7841c7f23e853355d785\n",
            "  Stored in directory: /tmp/pip-ephem-wheel-cache-fhwk9214/wheels/a5/b9/7c/f7eae6049de57d64f95151526d914514deefc76c36e083a5c1\n",
            "Successfully built transliterate\n",
            "Installing collected packages: transliterate\n",
            "Successfully installed transliterate-1.10.2\n"
          ],
          "name": "stdout"
        }
      ]
    },
    {
      "cell_type": "markdown",
      "metadata": {
        "id": "QD5NewqnVSbP"
      },
      "source": [
        "# Project solution steps"
      ]
    },
    {
      "cell_type": "markdown",
      "metadata": {
        "id": "3buiCRgVNqpi"
      },
      "source": [
        "## Collect existing bars location in Moscow "
      ]
    },
    {
      "cell_type": "code",
      "metadata": {
        "id": "Rf6B_UVCoyOc",
        "outputId": "80c3348c-dce5-4159-d184-f0244c834c94",
        "colab": {
          "base_uri": "https://localhost:8080/",
          "height": 34
        }
      },
      "source": [
        "#find Lat/long of the city\n",
        "geolocator = Nominatim(user_agent=\"coursera\")\n",
        "address = 'Moscow'\n",
        "try:\n",
        "    location = geolocator.geocode(address)\n",
        "    latitude = location.latitude\n",
        "    longitude = location.longitude\n",
        "    print('The geograpical coordinates of {} are {}, {}.'.format(address, latitude, longitude))\n",
        "except AttributeError:\n",
        "    print('Cannot find: {}, will drop index: {}'.format(address, index))\n"
      ],
      "execution_count": 7,
      "outputs": [
        {
          "output_type": "stream",
          "text": [
            "The geograpical coordinates of Moscow are 55.7504461, 37.6174943.\n"
          ],
          "name": "stdout"
        }
      ]
    },
    {
      "cell_type": "code",
      "metadata": {
        "id": "wV7buGWxop8c",
        "outputId": "6a4e0635-282d-40ed-ec28-082437e1556d",
        "colab": {
          "base_uri": "https://localhost:8080/",
          "height": 52
        }
      },
      "source": [
        "#search for certain category around the city \n",
        "LIMIT = 500 # limit of number of venues returned by Foursquare API\n",
        "radius = 3000 # define radius\n",
        "search_query = 'bar'\n",
        "# create URL\n",
        "url = 'https://api.foursquare.com/v2/venues/search?client_id={}&client_secret={}&ll={},{}&v={}&query={}&radius={}&limit={}'.format(\n",
        "    CLIENT_ID,\n",
        "    CLIENT_SECRET,\n",
        "    latitude,\n",
        "    longitude,\n",
        "    VERSION,\n",
        "    search_query, \n",
        "    radius,\n",
        "    LIMIT)\n",
        "url # display URL"
      ],
      "execution_count": 9,
      "outputs": [
        {
          "output_type": "execute_result",
          "data": {
            "application/vnd.google.colaboratory.intrinsic+json": {
              "type": "string"
            },
            "text/plain": [
              "'https://api.foursquare.com/v2/venues/search?client_id=DO2PODWSDB5IELF5XVSEWDAFK2UXIY0LUHSNZ5JPU3HI3UAH&client_secret=RAI0055P3A5SXZYTKYYIWLEHQOT4D452BZ0KKNMTLRKUXGFQ&ll=55.7504461,37.6174943&v=20180605&query=bar&radius=3000&limit=500'"
            ]
          },
          "metadata": {
            "tags": []
          },
          "execution_count": 9
        }
      ]
    },
    {
      "cell_type": "code",
      "metadata": {
        "id": "2_kRm9SSq5_l",
        "outputId": "560395c8-9732-4874-da14-db551db11a7f",
        "colab": {
          "base_uri": "https://localhost:8080/",
          "height": 51
        }
      },
      "source": [
        "#Send the GET Request\n",
        "results = requests.get(url).json()\n",
        "\n",
        "# assign relevant part of JSON to venues\n",
        "venues = results['response']['venues']\n",
        "\n",
        "# tranform venues into a dataframe\n",
        "dataframe = json_normalize(venues)\n",
        "#dataframe.head()\n",
        "#results"
      ],
      "execution_count": 10,
      "outputs": [
        {
          "output_type": "stream",
          "text": [
            "/usr/local/lib/python3.6/dist-packages/ipykernel_launcher.py:8: FutureWarning: pandas.io.json.json_normalize is deprecated, use pandas.json_normalize instead\n",
            "  \n"
          ],
          "name": "stderr"
        }
      ]
    },
    {
      "cell_type": "code",
      "metadata": {
        "id": "fG4-jCpJrfMl",
        "outputId": "881e2b55-fa2a-4fe1-c1f9-82c0fb298eaa",
        "colab": {
          "base_uri": "https://localhost:8080/",
          "height": 233
        }
      },
      "source": [
        "# keep only columns that include venue name, and anything that is associated with location\n",
        "filtered_columns = ['name', 'categories'] + [col for col in dataframe.columns if col.startswith('location.')] + ['id']\n",
        "dataframe_filtered = dataframe.loc[:, filtered_columns]\n",
        "\n",
        "# function that extracts the category of the venue\n",
        "def get_category_type(row):\n",
        "    try:\n",
        "        categories_list = row['categories']\n",
        "    except:\n",
        "        categories_list = row['venue.categories']\n",
        "        \n",
        "    if len(categories_list) == 0:\n",
        "        return None\n",
        "    else:\n",
        "        return categories_list[0]['name']\n",
        "\n",
        "# filter the category for each row\n",
        "dataframe_filtered['categories'] = dataframe_filtered.apply(get_category_type, axis=1)\n",
        "\n",
        "# clean column names by keeping only last term\n",
        "dataframe_filtered.columns = [column.split('.')[-1] for column in dataframe_filtered.columns]\n",
        "\n",
        "dataframe_filtered.head(2)"
      ],
      "execution_count": 11,
      "outputs": [
        {
          "output_type": "execute_result",
          "data": {
            "text/html": [
              "<div>\n",
              "<style scoped>\n",
              "    .dataframe tbody tr th:only-of-type {\n",
              "        vertical-align: middle;\n",
              "    }\n",
              "\n",
              "    .dataframe tbody tr th {\n",
              "        vertical-align: top;\n",
              "    }\n",
              "\n",
              "    .dataframe thead th {\n",
              "        text-align: right;\n",
              "    }\n",
              "</style>\n",
              "<table border=\"1\" class=\"dataframe\">\n",
              "  <thead>\n",
              "    <tr style=\"text-align: right;\">\n",
              "      <th></th>\n",
              "      <th>name</th>\n",
              "      <th>categories</th>\n",
              "      <th>address</th>\n",
              "      <th>crossStreet</th>\n",
              "      <th>lat</th>\n",
              "      <th>lng</th>\n",
              "      <th>labeledLatLngs</th>\n",
              "      <th>distance</th>\n",
              "      <th>postalCode</th>\n",
              "      <th>cc</th>\n",
              "      <th>city</th>\n",
              "      <th>state</th>\n",
              "      <th>country</th>\n",
              "      <th>formattedAddress</th>\n",
              "      <th>neighborhood</th>\n",
              "      <th>id</th>\n",
              "    </tr>\n",
              "  </thead>\n",
              "  <tbody>\n",
              "    <tr>\n",
              "      <th>0</th>\n",
              "      <td>Baga Bar</td>\n",
              "      <td>Indian Restaurant</td>\n",
              "      <td>Пятницкая ул., 25, стр. 1</td>\n",
              "      <td>Новокузнецкая ул.</td>\n",
              "      <td>55.742151</td>\n",
              "      <td>37.630160</td>\n",
              "      <td>[{'label': 'display', 'lat': 55.74215129898238...</td>\n",
              "      <td>1217</td>\n",
              "      <td>115035</td>\n",
              "      <td>RU</td>\n",
              "      <td>Москва</td>\n",
              "      <td>Москва</td>\n",
              "      <td>Россия</td>\n",
              "      <td>[Пятницкая ул., 25, стр. 1 (Новокузнецкая ул.)...</td>\n",
              "      <td>NaN</td>\n",
              "      <td>51406dc9e4b09ccb3c1de43e</td>\n",
              "    </tr>\n",
              "    <tr>\n",
              "      <th>1</th>\n",
              "      <td>Papa's Bar &amp; Grill</td>\n",
              "      <td>Bar</td>\n",
              "      <td>Никольская ул., 10</td>\n",
              "      <td>Большой Черкасский пер.</td>\n",
              "      <td>55.758177</td>\n",
              "      <td>37.624839</td>\n",
              "      <td>[{'label': 'display', 'lat': 55.75817694127271...</td>\n",
              "      <td>975</td>\n",
              "      <td>119019</td>\n",
              "      <td>RU</td>\n",
              "      <td>Москва</td>\n",
              "      <td>Москва</td>\n",
              "      <td>Россия</td>\n",
              "      <td>[Никольская ул., 10 (Большой Черкасский пер.),...</td>\n",
              "      <td>NaN</td>\n",
              "      <td>4bfb5775bbb7c92810120843</td>\n",
              "    </tr>\n",
              "  </tbody>\n",
              "</table>\n",
              "</div>"
            ],
            "text/plain": [
              "                 name         categories  ... neighborhood                        id\n",
              "0            Baga Bar  Indian Restaurant  ...          NaN  51406dc9e4b09ccb3c1de43e\n",
              "1  Papa's Bar & Grill                Bar  ...          NaN  4bfb5775bbb7c92810120843\n",
              "\n",
              "[2 rows x 16 columns]"
            ]
          },
          "metadata": {
            "tags": []
          },
          "execution_count": 11
        }
      ]
    },
    {
      "cell_type": "markdown",
      "metadata": {
        "id": "1LmolE9JWgCZ"
      },
      "source": [
        "## Map found bars "
      ]
    },
    {
      "cell_type": "code",
      "metadata": {
        "id": "_KiZJVR-uJNZ",
        "outputId": "60d19eaf-bd31-4e75-9a55-db5ef6a3f75f",
        "colab": {
          "base_uri": "https://localhost:8080/",
          "height": 34
        }
      },
      "source": [
        "print(dataframe_filtered.shape [0], \" bars found in the city center\")"
      ],
      "execution_count": 12,
      "outputs": [
        {
          "output_type": "stream",
          "text": [
            "50  bars found in the city center\n"
          ],
          "name": "stdout"
        }
      ]
    },
    {
      "cell_type": "code",
      "metadata": {
        "id": "1K_AmB6XwY2z",
        "outputId": "9cd30b3b-bfb1-45cf-84c3-24fcac9c6eac",
        "colab": {
          "base_uri": "https://localhost:8080/",
          "height": 915
        }
      },
      "source": [
        "city_map = folium.Map(location=[latitude, longitude], zoom_start=14) # generate map centred around the city\n",
        "\n",
        "# add a red circle marker to represent the city\n",
        "folium.CircleMarker(\n",
        "    [latitude, longitude],\n",
        "    radius=10,\n",
        "    color='red',\n",
        "    popup=address,\n",
        "    fill = True,\n",
        "    fill_color = 'red',\n",
        "    fill_opacity = 0.6\n",
        ").add_to(city_map)\n",
        "\n",
        "# add the venues as blue circle markers\n",
        "for lat, lng in zip(dataframe_filtered.lat, dataframe_filtered.lng):\n",
        "    folium.CircleMarker(\n",
        "        [lat, lng],\n",
        "        radius=2,\n",
        "        color='blue',\n",
        "        #popup=label,\n",
        "        fill = True,\n",
        "        fill_color='blue',\n",
        "        fill_opacity=0.6\n",
        "    ).add_to(city_map)\n",
        "\n",
        "\n",
        "city_map"
      ],
      "execution_count": 15,
      "outputs": [
        {
          "output_type": "execute_result",
          "data": {
            "text/html": [
              "<div style=\"width:100%;\"><div style=\"position:relative;width:100%;height:0;padding-bottom:60%;\"><span style=\"color:#565656\">Make this Notebook Trusted to load map: File -> Trust Notebook</span><iframe src=\"about:blank\" style=\"position:absolute;width:100%;height:100%;left:0;top:0;border:none !important;\" data-html=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 onload=\"this.contentDocument.open();this.contentDocument.write(atob(this.getAttribute('data-html')));this.contentDocument.close();\" allowfullscreen webkitallowfullscreen mozallowfullscreen></iframe></div></div>"
            ],
            "text/plain": [
              "<folium.folium.Map at 0x7fbadda29048>"
            ]
          },
          "metadata": {
            "tags": []
          },
          "execution_count": 15
        }
      ]
    },
    {
      "cell_type": "markdown",
      "metadata": {
        "id": "M1-w1PDaWveU"
      },
      "source": [
        "## Cluster analisys and the most promising cluster"
      ]
    },
    {
      "cell_type": "markdown",
      "metadata": {
        "id": "AGJnqiOSXtTu"
      },
      "source": [
        "### K mean method for clusters "
      ]
    },
    {
      "cell_type": "code",
      "metadata": {
        "id": "6tVguj4-sWeG",
        "outputId": "20ae92a4-a365-40fa-a987-9dfde20e569e",
        "colab": {
          "base_uri": "https://localhost:8080/",
          "height": 34
        }
      },
      "source": [
        "# set number of clusters\n",
        "kclusters = 5\n",
        "\n",
        "df_for_clustering = dataframe_filtered[['lat','lng']]  \n",
        "\n",
        "# run k-means clustering\n",
        "kmeans = KMeans(n_clusters=kclusters, random_state=0).fit(df_for_clustering)\n",
        "\n",
        "# check cluster labels generated for each row in the dataframe\n",
        "kmeans.labels_[0:10] "
      ],
      "execution_count": 16,
      "outputs": [
        {
          "output_type": "execute_result",
          "data": {
            "text/plain": [
              "array([2, 1, 2, 1, 1, 0, 3, 1, 1, 1], dtype=int32)"
            ]
          },
          "metadata": {
            "tags": []
          },
          "execution_count": 16
        }
      ]
    },
    {
      "cell_type": "code",
      "metadata": {
        "id": "F9ihuXX_sxPh",
        "outputId": "3d143ebe-0478-4445-d72f-3edcdeb37a52",
        "colab": {
          "base_uri": "https://localhost:8080/",
          "height": 233
        }
      },
      "source": [
        "# add clustering labels\n",
        "df_clusters=pd.DataFrame({'Cluster':kmeans.labels_ })\n",
        "\n",
        "dataframe_filtered = dataframe_filtered.join(df_clusters)\n",
        "\n",
        "dataframe_filtered.head(2)"
      ],
      "execution_count": 17,
      "outputs": [
        {
          "output_type": "execute_result",
          "data": {
            "text/html": [
              "<div>\n",
              "<style scoped>\n",
              "    .dataframe tbody tr th:only-of-type {\n",
              "        vertical-align: middle;\n",
              "    }\n",
              "\n",
              "    .dataframe tbody tr th {\n",
              "        vertical-align: top;\n",
              "    }\n",
              "\n",
              "    .dataframe thead th {\n",
              "        text-align: right;\n",
              "    }\n",
              "</style>\n",
              "<table border=\"1\" class=\"dataframe\">\n",
              "  <thead>\n",
              "    <tr style=\"text-align: right;\">\n",
              "      <th></th>\n",
              "      <th>name</th>\n",
              "      <th>categories</th>\n",
              "      <th>address</th>\n",
              "      <th>crossStreet</th>\n",
              "      <th>lat</th>\n",
              "      <th>lng</th>\n",
              "      <th>labeledLatLngs</th>\n",
              "      <th>distance</th>\n",
              "      <th>postalCode</th>\n",
              "      <th>cc</th>\n",
              "      <th>city</th>\n",
              "      <th>state</th>\n",
              "      <th>country</th>\n",
              "      <th>formattedAddress</th>\n",
              "      <th>neighborhood</th>\n",
              "      <th>id</th>\n",
              "      <th>Cluster</th>\n",
              "    </tr>\n",
              "  </thead>\n",
              "  <tbody>\n",
              "    <tr>\n",
              "      <th>0</th>\n",
              "      <td>Baga Bar</td>\n",
              "      <td>Indian Restaurant</td>\n",
              "      <td>Пятницкая ул., 25, стр. 1</td>\n",
              "      <td>Новокузнецкая ул.</td>\n",
              "      <td>55.742151</td>\n",
              "      <td>37.630160</td>\n",
              "      <td>[{'label': 'display', 'lat': 55.74215129898238...</td>\n",
              "      <td>1217</td>\n",
              "      <td>115035</td>\n",
              "      <td>RU</td>\n",
              "      <td>Москва</td>\n",
              "      <td>Москва</td>\n",
              "      <td>Россия</td>\n",
              "      <td>[Пятницкая ул., 25, стр. 1 (Новокузнецкая ул.)...</td>\n",
              "      <td>NaN</td>\n",
              "      <td>51406dc9e4b09ccb3c1de43e</td>\n",
              "      <td>2</td>\n",
              "    </tr>\n",
              "    <tr>\n",
              "      <th>1</th>\n",
              "      <td>Papa's Bar &amp; Grill</td>\n",
              "      <td>Bar</td>\n",
              "      <td>Никольская ул., 10</td>\n",
              "      <td>Большой Черкасский пер.</td>\n",
              "      <td>55.758177</td>\n",
              "      <td>37.624839</td>\n",
              "      <td>[{'label': 'display', 'lat': 55.75817694127271...</td>\n",
              "      <td>975</td>\n",
              "      <td>119019</td>\n",
              "      <td>RU</td>\n",
              "      <td>Москва</td>\n",
              "      <td>Москва</td>\n",
              "      <td>Россия</td>\n",
              "      <td>[Никольская ул., 10 (Большой Черкасский пер.),...</td>\n",
              "      <td>NaN</td>\n",
              "      <td>4bfb5775bbb7c92810120843</td>\n",
              "      <td>1</td>\n",
              "    </tr>\n",
              "  </tbody>\n",
              "</table>\n",
              "</div>"
            ],
            "text/plain": [
              "                 name         categories  ...                        id Cluster\n",
              "0            Baga Bar  Indian Restaurant  ...  51406dc9e4b09ccb3c1de43e       2\n",
              "1  Papa's Bar & Grill                Bar  ...  4bfb5775bbb7c92810120843       1\n",
              "\n",
              "[2 rows x 17 columns]"
            ]
          },
          "metadata": {
            "tags": []
          },
          "execution_count": 17
        }
      ]
    },
    {
      "cell_type": "code",
      "metadata": {
        "id": "TuONdMvh1EvR"
      },
      "source": [
        "#get clusters centers\n",
        "centers=kmeans.cluster_centers_\n",
        "df_centers=pd.DataFrame ( {'lat' : centers[:,0], 'lng':centers[:,1]} )\n"
      ],
      "execution_count": 18,
      "outputs": []
    },
    {
      "cell_type": "markdown",
      "metadata": {
        "id": "zuQ09v09XLM-"
      },
      "source": [
        "### Look for the least dens cluster ( use ConvexHull function)"
      ]
    },
    {
      "cell_type": "code",
      "metadata": {
        "id": "y0osxKKWViIa",
        "outputId": "ad6bdf7c-1721-4aa5-e76e-9a61a94d4d4e",
        "colab": {
          "base_uri": "https://localhost:8080/",
          "height": 221
        }
      },
      "source": [
        "df_cluster_densities = pd.DataFrame(columns=['Cluster','N_point','Area', 'Density'])\n",
        "for i in range(kclusters):\n",
        "  df_cluster=dataframe_filtered.loc[dataframe_filtered['Cluster']==i,['lat','lng']]\n",
        "  n_points=df_cluster.shape[0]\n",
        "  if n_points > 2 :\n",
        "    area = ConvexHull(df_cluster).volume\n",
        "  else:\n",
        "    area=0\n",
        "  density=area/n_points\n",
        "  df_cluster_densities=df_cluster_densities.append({'Cluster':i,'N_point': n_points, 'Area': area, 'Density': density}, ignore_index=True)\n",
        "\n",
        "the_promissing_cluster= df_cluster_densities.loc[df_cluster_densities['Density']==df_cluster_densities['Density'].max(),'Cluster'].max() \n",
        "print('the least occupied cluser is ' , the_promissing_cluster)\n",
        "df_cluster_densities"
      ],
      "execution_count": 19,
      "outputs": [
        {
          "output_type": "stream",
          "text": [
            "the least occupied cluser is  0.0\n"
          ],
          "name": "stdout"
        },
        {
          "output_type": "execute_result",
          "data": {
            "text/html": [
              "<div>\n",
              "<style scoped>\n",
              "    .dataframe tbody tr th:only-of-type {\n",
              "        vertical-align: middle;\n",
              "    }\n",
              "\n",
              "    .dataframe tbody tr th {\n",
              "        vertical-align: top;\n",
              "    }\n",
              "\n",
              "    .dataframe thead th {\n",
              "        text-align: right;\n",
              "    }\n",
              "</style>\n",
              "<table border=\"1\" class=\"dataframe\">\n",
              "  <thead>\n",
              "    <tr style=\"text-align: right;\">\n",
              "      <th></th>\n",
              "      <th>Cluster</th>\n",
              "      <th>N_point</th>\n",
              "      <th>Area</th>\n",
              "      <th>Density</th>\n",
              "    </tr>\n",
              "  </thead>\n",
              "  <tbody>\n",
              "    <tr>\n",
              "      <th>0</th>\n",
              "      <td>0.0</td>\n",
              "      <td>7.0</td>\n",
              "      <td>0.000271</td>\n",
              "      <td>0.000039</td>\n",
              "    </tr>\n",
              "    <tr>\n",
              "      <th>1</th>\n",
              "      <td>1.0</td>\n",
              "      <td>20.0</td>\n",
              "      <td>0.000182</td>\n",
              "      <td>0.000009</td>\n",
              "    </tr>\n",
              "    <tr>\n",
              "      <th>2</th>\n",
              "      <td>2.0</td>\n",
              "      <td>8.0</td>\n",
              "      <td>0.000250</td>\n",
              "      <td>0.000031</td>\n",
              "    </tr>\n",
              "    <tr>\n",
              "      <th>3</th>\n",
              "      <td>3.0</td>\n",
              "      <td>10.0</td>\n",
              "      <td>0.000122</td>\n",
              "      <td>0.000012</td>\n",
              "    </tr>\n",
              "    <tr>\n",
              "      <th>4</th>\n",
              "      <td>4.0</td>\n",
              "      <td>5.0</td>\n",
              "      <td>0.000109</td>\n",
              "      <td>0.000022</td>\n",
              "    </tr>\n",
              "  </tbody>\n",
              "</table>\n",
              "</div>"
            ],
            "text/plain": [
              "   Cluster  N_point      Area   Density\n",
              "0      0.0      7.0  0.000271  0.000039\n",
              "1      1.0     20.0  0.000182  0.000009\n",
              "2      2.0      8.0  0.000250  0.000031\n",
              "3      3.0     10.0  0.000122  0.000012\n",
              "4      4.0      5.0  0.000109  0.000022"
            ]
          },
          "metadata": {
            "tags": []
          },
          "execution_count": 19
        }
      ]
    },
    {
      "cell_type": "markdown",
      "metadata": {
        "id": "6ZjIeCZx60TT"
      },
      "source": [
        "### Make Vornoi grid to visualize boundary of the clusters"
      ]
    },
    {
      "cell_type": "code",
      "metadata": {
        "id": "FHQdWGNU6xlN"
      },
      "source": [
        "df_voronoi=df_centers\n",
        "vor=Voronoi(df_voronoi)"
      ],
      "execution_count": 20,
      "outputs": []
    },
    {
      "cell_type": "code",
      "metadata": {
        "id": "qmj3TRFg6xlT"
      },
      "source": [
        "def voronoi_finite_polygons_2d(vor, radius=None):\n",
        "    \"\"\"Reconstruct infinite Voronoi regions in a\n",
        "    2D diagram to finite regions.\n",
        "    Source:\n",
        "    [https://stackoverflow.com/a/20678647/1595060](https://stackoverflow.com/a/20678647/1595060)\n",
        "    \"\"\"\n",
        "    if vor.points.shape[1] != 2:\n",
        "        raise ValueError(\"Requires 2D input\")\n",
        "    new_regions = []\n",
        "    new_vertices = vor.vertices.tolist()\n",
        "    center = vor.points.mean(axis=0)\n",
        "    if radius is None:\n",
        "        radius = vor.points.ptp().max()\n",
        "    # Construct a map containing all ridges for a\n",
        "    # given point\n",
        "    all_ridges = {}\n",
        "    for (p1, p2), (v1, v2) in zip(vor.ridge_points,\n",
        "                                  vor.ridge_vertices):\n",
        "        all_ridges.setdefault(\n",
        "            p1, []).append((p2, v1, v2))\n",
        "        all_ridges.setdefault(\n",
        "            p2, []).append((p1, v1, v2))\n",
        "    # Reconstruct infinite regions\n",
        "    for p1, region in enumerate(vor.point_region):\n",
        "        vertices = vor.regions[region]\n",
        "        if all(v >= 0 for v in vertices):\n",
        "            # finite region\n",
        "            new_regions.append(vertices)\n",
        "            continue\n",
        "        # reconstruct a non-finite region\n",
        "        ridges = all_ridges[p1]\n",
        "        new_region = [v for v in vertices if v >= 0]\n",
        "        for p2, v1, v2 in ridges:\n",
        "            if v2 < 0:\n",
        "                v1, v2 = v2, v1\n",
        "            if v1 >= 0:\n",
        "                # finite ridge: already in the region\n",
        "                continue\n",
        "            # Compute the missing endpoint of an\n",
        "            # infinite ridge\n",
        "            t = vor.points[p2] - \\\n",
        "                vor.points[p1]  # tangent\n",
        "            t /= np.linalg.norm(t)\n",
        "            n = np.array([-t[1], t[0]])  # normal\n",
        "            midpoint = vor.points[[p1, p2]]. \\\n",
        "                mean(axis=0)\n",
        "            direction = np.sign(\n",
        "                np.dot(midpoint - center, n)) * n\n",
        "            far_point = vor.vertices[v2] + \\\n",
        "                direction * radius\n",
        "            new_region.append(len(new_vertices))\n",
        "            new_vertices.append(far_point.tolist())\n",
        "        # Sort region counterclockwise.\n",
        "        vs = np.asarray([new_vertices[v]\n",
        "                         for v in new_region])\n",
        "        c = vs.mean(axis=0)\n",
        "        angles = np.arctan2(\n",
        "            vs[:, 1] - c[1], vs[:, 0] - c[0])\n",
        "        new_region = np.array(new_region)[\n",
        "            np.argsort(angles)]\n",
        "        new_regions.append(new_region.tolist())\n",
        "    return new_regions, np.asarray(new_vertices)"
      ],
      "execution_count": 21,
      "outputs": []
    },
    {
      "cell_type": "code",
      "metadata": {
        "id": "PpIQ1y0_6xlX"
      },
      "source": [
        "regions, vertices = voronoi_finite_polygons_2d(vor,radius=10)"
      ],
      "execution_count": 22,
      "outputs": []
    },
    {
      "cell_type": "code",
      "metadata": {
        "id": "5vCyQdXS6xle"
      },
      "source": [
        "file_name='voronoi.geojson'\n",
        "data = os.path.join(file_name)\n",
        "point_voronoi_list = []\n",
        "feature_list = []\n",
        "for region in range(len(regions)-1):\n",
        "    vertex_list = []\n",
        "    for x in regions[region]:\n",
        "        if x == -1:\n",
        "            break;\n",
        "        else:\n",
        "            #Get the vertex out of the list, and flip the order for folium:\n",
        "            vertex = vertices[x]\n",
        "            vertex = (vertex[1], vertex[0])\n",
        "        vertex_list.append(vertex)\n",
        "    #Save the vertex list as a polygon and then add to the feature_list:\n",
        "    polygon = Polygon([vertex_list])\n",
        "    feature = Feature(geometry=polygon, properties={})\n",
        "    feature_list.append(feature)\n",
        "#The output file, to contain the Voronoi diagram we computed:\n",
        "vorJSON = open(file_name, 'w')\n",
        "#Write the features to the new file:\n",
        "feature_collection = FeatureCollection(feature_list)\n",
        "print (feature_collection, file=vorJSON)\n",
        "vorJSON.close()"
      ],
      "execution_count": 23,
      "outputs": []
    },
    {
      "cell_type": "markdown",
      "metadata": {
        "id": "yh-RBF10YHc7"
      },
      "source": [
        "## Update map with clusters, boundaries and the most promissing cluster"
      ]
    },
    {
      "cell_type": "code",
      "metadata": {
        "id": "WGG-JP9fs_pu",
        "outputId": "edc4a5de-4554-4c11-c003-bd0c0ff822f8",
        "colab": {
          "base_uri": "https://localhost:8080/",
          "height": 915
        }
      },
      "source": [
        "# create map\n",
        "map_clusters = folium.Map(location=[latitude, longitude], zoom_start=13) # generate map centred around the city\n",
        "\n",
        "# set color scheme for the clusters\n",
        "x = np.arange(kclusters)\n",
        "ys = [i + x + (i*x)**2 for i in range(kclusters)]\n",
        "colors_array = cm.rainbow(np.linspace(0, 1, len(ys)))\n",
        "rainbow = [colors.rgb2hex(i) for i in colors_array]\n",
        "\n",
        "folium.GeoJson(data, name='voronoi').add_to(map_clusters)\n",
        "\n",
        "#folium.Circle(location=[latitude, longitude], popup='searching radius', radius=radius, weight=2, color=\"#000\").add_to(map_clusters)\n",
        "\n",
        "# add markers to the map\n",
        "markers_colors = []\n",
        "for lat, lon, poi, cluster in zip(dataframe_filtered.lat, dataframe_filtered.lng, dataframe_filtered.name, dataframe_filtered.Cluster):\n",
        "    label = folium.Popup(str(poi) + ' Cluster ' + str(cluster), parse_html=True)\n",
        "    folium.CircleMarker(\n",
        "        [lat, lon],\n",
        "        radius=5,\n",
        "        popup=label,\n",
        "        color=rainbow[cluster-1],\n",
        "        fill=True,\n",
        "        fill_color=rainbow[cluster-1],\n",
        "        fill_opacity=0.7).add_to(map_clusters)\n",
        "\n",
        "# add a red circle marker to represent the city\n",
        "folium.CircleMarker(\n",
        "    [latitude, longitude],\n",
        "    radius=2,\n",
        "    color='black',\n",
        "    popup=\"city center\",\n",
        "    fill = True,\n",
        "    fill_color = 'black',\n",
        "    fill_opacity = 0.6\n",
        ").add_to(map_clusters)\n",
        "\n",
        "folium.Marker(\n",
        "    location=[df_centers.lat[the_promissing_cluster], df_centers.lng[the_promissing_cluster]],\n",
        "    popup=\"least dens cluster\",\n",
        "    icon=folium.Icon(color='red', icon='info-sign')\n",
        ").add_to(map_clusters)\n",
        "\n",
        "map_clusters\n"
      ],
      "execution_count": 25,
      "outputs": [
        {
          "output_type": "execute_result",
          "data": {
            "text/html": [
              "<div style=\"width:100%;\"><div style=\"position:relative;width:100%;height:0;padding-bottom:60%;\"><span style=\"color:#565656\">Make this Notebook Trusted to load map: File -> Trust Notebook</span><iframe src=\"about:blank\" style=\"position:absolute;width:100%;height:100%;left:0;top:0;border:none !important;\" data-html=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 onload=\"this.contentDocument.open();this.contentDocument.write(atob(this.getAttribute('data-html')));this.contentDocument.close();\" allowfullscreen webkitallowfullscreen mozallowfullscreen></iframe></div></div>"
            ],
            "text/plain": [
              "<folium.folium.Map at 0x7fbadc56ed30>"
            ]
          },
          "metadata": {
            "tags": []
          },
          "execution_count": 25
        }
      ]
    },
    {
      "cell_type": "markdown",
      "metadata": {
        "id": "V3WM8JCTZHJh"
      },
      "source": [
        "## Searching for area where a new  bar could be considered"
      ]
    },
    {
      "cell_type": "markdown",
      "metadata": {
        "id": "suvtb8ufZ25P"
      },
      "source": [
        "create triangle sufraces over existing bars \n"
      ]
    },
    {
      "cell_type": "code",
      "metadata": {
        "id": "LIW9YDdMptjP"
      },
      "source": [
        "df_best_cluster=dataframe_filtered.loc[dataframe_filtered['Cluster']==the_promissing_cluster,['lat','lng']]\n",
        "tri = Delaunay(df_best_cluster)\n",
        "indices =tri.simplices"
      ],
      "execution_count": 27,
      "outputs": []
    },
    {
      "cell_type": "markdown",
      "metadata": {
        "id": "RhRGvFU_aHMq"
      },
      "source": [
        "### Look for three top biggest triangle and locate the middle points of these triangle ( i.e. area where bars are far away from each other) "
      ]
    },
    {
      "cell_type": "code",
      "metadata": {
        "id": "cQZFGa1GOqcz",
        "outputId": "a41f5104-30a0-4e2b-c0d1-5e6d0895e514",
        "colab": {
          "base_uri": "https://localhost:8080/",
          "height": 142
        }
      },
      "source": [
        "#Select top 3 places\n",
        "top_ranking=3\n",
        "df_new_space_search= pd.DataFrame(columns=['Area','lat','lng','indx','N_spots'])\n",
        "\n",
        "for i in range(indices.shape[0]):\n",
        "  df_filter=df_best_cluster.iloc[indices[i]]\n",
        "  area = ConvexHull(df_filter).volume\n",
        "  cntr_lat= (df_filter['lat'].iloc[0] + df_filter['lat'].iloc[1] + df_filter['lat'].iloc[2]) / 3;\n",
        "  cntr_lng= (df_filter['lng'].iloc[0] + df_filter['lng'].iloc[1] + df_filter['lng'].iloc[2]) / 3;\n",
        "  df_new_space_search=df_new_space_search.append({'Area':area,'lat': cntr_lat, 'lng': cntr_lng,'indx':i}, ignore_index=True)\n",
        "\n",
        "df_new_space_search= df_new_space_search.sort_values('Area',ascending = False) [:top_ranking]\n",
        "df_new_space_search"
      ],
      "execution_count": 28,
      "outputs": [
        {
          "output_type": "execute_result",
          "data": {
            "text/html": [
              "<div>\n",
              "<style scoped>\n",
              "    .dataframe tbody tr th:only-of-type {\n",
              "        vertical-align: middle;\n",
              "    }\n",
              "\n",
              "    .dataframe tbody tr th {\n",
              "        vertical-align: top;\n",
              "    }\n",
              "\n",
              "    .dataframe thead th {\n",
              "        text-align: right;\n",
              "    }\n",
              "</style>\n",
              "<table border=\"1\" class=\"dataframe\">\n",
              "  <thead>\n",
              "    <tr style=\"text-align: right;\">\n",
              "      <th></th>\n",
              "      <th>Area</th>\n",
              "      <th>lat</th>\n",
              "      <th>lng</th>\n",
              "      <th>indx</th>\n",
              "      <th>N_spots</th>\n",
              "    </tr>\n",
              "  </thead>\n",
              "  <tbody>\n",
              "    <tr>\n",
              "      <th>2</th>\n",
              "      <td>0.000109</td>\n",
              "      <td>55.744973</td>\n",
              "      <td>37.577755</td>\n",
              "      <td>2.0</td>\n",
              "      <td>NaN</td>\n",
              "    </tr>\n",
              "    <tr>\n",
              "      <th>4</th>\n",
              "      <td>0.000050</td>\n",
              "      <td>55.743649</td>\n",
              "      <td>37.593417</td>\n",
              "      <td>4.0</td>\n",
              "      <td>NaN</td>\n",
              "    </tr>\n",
              "    <tr>\n",
              "      <th>1</th>\n",
              "      <td>0.000035</td>\n",
              "      <td>55.741162</td>\n",
              "      <td>37.585842</td>\n",
              "      <td>1.0</td>\n",
              "      <td>NaN</td>\n",
              "    </tr>\n",
              "  </tbody>\n",
              "</table>\n",
              "</div>"
            ],
            "text/plain": [
              "       Area        lat        lng  indx  N_spots\n",
              "2  0.000109  55.744973  37.577755   2.0      NaN\n",
              "4  0.000050  55.743649  37.593417   4.0      NaN\n",
              "1  0.000035  55.741162  37.585842   1.0      NaN"
            ]
          },
          "metadata": {
            "tags": []
          },
          "execution_count": 28
        }
      ]
    },
    {
      "cell_type": "markdown",
      "metadata": {
        "id": "f5jaCzO5aWym"
      },
      "source": [
        "### Check how many offices around these locations "
      ]
    },
    {
      "cell_type": "markdown",
      "metadata": {
        "id": "V5aU3c6OeVX0"
      },
      "source": [
        "( more offices -> more people -> more preffered bar location)"
      ]
    },
    {
      "cell_type": "code",
      "metadata": {
        "id": "vj1vM-Qcu5Az",
        "outputId": "55d55df5-0a46-4432-f41a-cbb537ed1016",
        "colab": {
          "base_uri": "https://localhost:8080/",
          "height": 193
        }
      },
      "source": [
        "#search for spots around these locations \n",
        "LIMIT = 100 # limit of number of venues returned by Foursquare API\n",
        "radius = 300 # define radius\n",
        "search_query=\"office\"\n",
        "df_new_space_spots= pd.DataFrame(columns=['N_spots'])\n",
        "\n",
        "for k in range (df_new_space_search.shape[0]):\n",
        "  # create URL\n",
        "  url = 'https://api.foursquare.com/v2/venues/search?client_id={}&client_secret={}&ll={},{}&v={}&query={}&radius={}&limit={}'.format(\n",
        "    CLIENT_ID,\n",
        "    CLIENT_SECRET,\n",
        "    df_new_space_search['lat'].iloc[k], \n",
        "    df_new_space_search['lng'].iloc[k],\n",
        "    VERSION,\n",
        "    search_query, \n",
        "    radius,\n",
        "    LIMIT)\n",
        " \n",
        "  #Send the GET Request\n",
        "  results = requests.get(url).json()\n",
        "\n",
        "  # assign relevant part of JSON to venues\n",
        "  # tranform venues into a dataframe\n",
        "  dataframe = pd.json_normalize(results['response']['venues'])\n",
        "\n",
        "  df_new_space_search['N_spots'].iloc[k]= dataframe.shape[0]\n",
        "  \n",
        "  if k==0:\n",
        "    spots_dataframe = dataframe\n",
        "  else:\n",
        "    spots_dataframe = spots_dataframe.append(dataframe)\n",
        "  \n",
        "df_new_space_search"
      ],
      "execution_count": 52,
      "outputs": [
        {
          "output_type": "stream",
          "text": [
            "0\n",
            "1\n",
            "2\n"
          ],
          "name": "stdout"
        },
        {
          "output_type": "execute_result",
          "data": {
            "text/html": [
              "<div>\n",
              "<style scoped>\n",
              "    .dataframe tbody tr th:only-of-type {\n",
              "        vertical-align: middle;\n",
              "    }\n",
              "\n",
              "    .dataframe tbody tr th {\n",
              "        vertical-align: top;\n",
              "    }\n",
              "\n",
              "    .dataframe thead th {\n",
              "        text-align: right;\n",
              "    }\n",
              "</style>\n",
              "<table border=\"1\" class=\"dataframe\">\n",
              "  <thead>\n",
              "    <tr style=\"text-align: right;\">\n",
              "      <th></th>\n",
              "      <th>Area</th>\n",
              "      <th>lat</th>\n",
              "      <th>lng</th>\n",
              "      <th>indx</th>\n",
              "      <th>N_spots</th>\n",
              "    </tr>\n",
              "  </thead>\n",
              "  <tbody>\n",
              "    <tr>\n",
              "      <th>2</th>\n",
              "      <td>0.000109</td>\n",
              "      <td>55.744973</td>\n",
              "      <td>37.577755</td>\n",
              "      <td>2.0</td>\n",
              "      <td>6.0</td>\n",
              "    </tr>\n",
              "    <tr>\n",
              "      <th>4</th>\n",
              "      <td>0.000050</td>\n",
              "      <td>55.743649</td>\n",
              "      <td>37.593417</td>\n",
              "      <td>4.0</td>\n",
              "      <td>8.0</td>\n",
              "    </tr>\n",
              "    <tr>\n",
              "      <th>1</th>\n",
              "      <td>0.000035</td>\n",
              "      <td>55.741162</td>\n",
              "      <td>37.585842</td>\n",
              "      <td>1.0</td>\n",
              "      <td>2.0</td>\n",
              "    </tr>\n",
              "  </tbody>\n",
              "</table>\n",
              "</div>"
            ],
            "text/plain": [
              "       Area        lat        lng  indx  N_spots\n",
              "2  0.000109  55.744973  37.577755   2.0      6.0\n",
              "4  0.000050  55.743649  37.593417   4.0      8.0\n",
              "1  0.000035  55.741162  37.585842   1.0      2.0"
            ]
          },
          "metadata": {
            "tags": []
          },
          "execution_count": 52
        }
      ]
    },
    {
      "cell_type": "markdown",
      "metadata": {
        "id": "IpnPSmEwbEZp"
      },
      "source": [
        "### Clean *spots* dataframe"
      ]
    },
    {
      "cell_type": "code",
      "metadata": {
        "id": "d2d0IcSv5S5c",
        "outputId": "d0891e3b-8800-4cab-c598-cab9815fb66b",
        "colab": {
          "base_uri": "https://localhost:8080/",
          "height": 145
        }
      },
      "source": [
        "# keep only columns that include venue name, and anything that is associated with location\n",
        "filtered_columns = ['name', 'categories'] + [col for col in spots_dataframe.columns if col.startswith('location.')] + ['id']\n",
        "spots_dataframe_filtered = spots_dataframe.loc[:, filtered_columns]\n",
        "\n",
        "# function that extracts the category of the venue\n",
        "def get_category_type(row):\n",
        "    try:\n",
        "        categories_list = row['categories']\n",
        "    except:\n",
        "        categories_list = row['venue.categories']\n",
        "        \n",
        "    if len(categories_list) == 0:\n",
        "        return None\n",
        "    else:\n",
        "        return categories_list[0]['name']\n",
        "\n",
        "# filter the category for each row\n",
        "spots_dataframe_filtered['categories'] = spots_dataframe_filtered.apply(get_category_type, axis=1)\n",
        "\n",
        "# clean column names by keeping only last term\n",
        "spots_dataframe_filtered.columns = [column.split('.')[-1] for column in spots_dataframe_filtered.columns]\n",
        "\n",
        "spots_dataframe_filtered.head(2)"
      ],
      "execution_count": 53,
      "outputs": [
        {
          "output_type": "execute_result",
          "data": {
            "text/html": [
              "<div>\n",
              "<style scoped>\n",
              "    .dataframe tbody tr th:only-of-type {\n",
              "        vertical-align: middle;\n",
              "    }\n",
              "\n",
              "    .dataframe tbody tr th {\n",
              "        vertical-align: top;\n",
              "    }\n",
              "\n",
              "    .dataframe thead th {\n",
              "        text-align: right;\n",
              "    }\n",
              "</style>\n",
              "<table border=\"1\" class=\"dataframe\">\n",
              "  <thead>\n",
              "    <tr style=\"text-align: right;\">\n",
              "      <th></th>\n",
              "      <th>name</th>\n",
              "      <th>categories</th>\n",
              "      <th>lat</th>\n",
              "      <th>lng</th>\n",
              "      <th>labeledLatLngs</th>\n",
              "      <th>distance</th>\n",
              "      <th>cc</th>\n",
              "      <th>country</th>\n",
              "      <th>formattedAddress</th>\n",
              "      <th>address</th>\n",
              "      <th>city</th>\n",
              "      <th>state</th>\n",
              "      <th>postalCode</th>\n",
              "      <th>crossStreet</th>\n",
              "      <th>id</th>\n",
              "    </tr>\n",
              "  </thead>\n",
              "  <tbody>\n",
              "    <tr>\n",
              "      <th>0</th>\n",
              "      <td>WRF Office</td>\n",
              "      <td>Office</td>\n",
              "      <td>55.747401</td>\n",
              "      <td>37.580803</td>\n",
              "      <td>[{'label': 'display', 'lat': 55.747401, 'lng':...</td>\n",
              "      <td>330</td>\n",
              "      <td>RU</td>\n",
              "      <td>Россия</td>\n",
              "      <td>[Россия]</td>\n",
              "      <td>NaN</td>\n",
              "      <td>NaN</td>\n",
              "      <td>NaN</td>\n",
              "      <td>NaN</td>\n",
              "      <td>NaN</td>\n",
              "      <td>55759393498eedcbafffd84a</td>\n",
              "    </tr>\n",
              "    <tr>\n",
              "      <th>1</th>\n",
              "      <td>Daddy's office</td>\n",
              "      <td>Office</td>\n",
              "      <td>55.746669</td>\n",
              "      <td>37.579491</td>\n",
              "      <td>[{'label': 'display', 'lat': 55.746669, 'lng':...</td>\n",
              "      <td>217</td>\n",
              "      <td>RU</td>\n",
              "      <td>Россия</td>\n",
              "      <td>[Россия]</td>\n",
              "      <td>NaN</td>\n",
              "      <td>NaN</td>\n",
              "      <td>NaN</td>\n",
              "      <td>NaN</td>\n",
              "      <td>NaN</td>\n",
              "      <td>519f5ff1498eeddbeb3b8bd8</td>\n",
              "    </tr>\n",
              "  </tbody>\n",
              "</table>\n",
              "</div>"
            ],
            "text/plain": [
              "             name categories  ...  crossStreet                        id\n",
              "0      WRF Office     Office  ...          NaN  55759393498eedcbafffd84a\n",
              "1  Daddy's office     Office  ...          NaN  519f5ff1498eeddbeb3b8bd8\n",
              "\n",
              "[2 rows x 15 columns]"
            ]
          },
          "metadata": {
            "tags": []
          },
          "execution_count": 53
        }
      ]
    },
    {
      "cell_type": "markdown",
      "metadata": {
        "id": "_sZe8hZkbOqu"
      },
      "source": [
        "## Make map with proposed locations for a new bar "
      ]
    },
    {
      "cell_type": "code",
      "metadata": {
        "id": "QnKILSbzbU3V",
        "outputId": "ed34632c-5d46-4a4a-f604-e4f4382a62ca",
        "colab": {
          "base_uri": "https://localhost:8080/",
          "height": 915
        }
      },
      "source": [
        "# create map\n",
        "map_suggestions = folium.Map(location=[df_centers.lat[the_promissing_cluster], df_centers.lng[the_promissing_cluster]], zoom_start=15) # generate map centred around the city\n",
        "\n",
        "# set color scheme for the clusters\n",
        "x = np.arange(kclusters)\n",
        "ys = [i + x + (i*x)**2 for i in range(kclusters)]\n",
        "colors_array = cm.rainbow(np.linspace(0, 1, len(ys)))\n",
        "rainbow = [colors.rgb2hex(i) for i in colors_array]\n",
        "\n",
        "# add markers to the map\n",
        "markers_colors = []\n",
        "for lat, lon, poi, cluster in zip(dataframe_filtered.lat, dataframe_filtered.lng, dataframe_filtered.name, dataframe_filtered.Cluster):\n",
        "    label = folium.Popup(str(poi) + ' Cluster ' + str(cluster), parse_html=True)\n",
        "    folium.CircleMarker(\n",
        "        [lat, lon],\n",
        "        radius=5,\n",
        "        popup=label,\n",
        "        color=rainbow[cluster-1],\n",
        "        fill=True,\n",
        "        fill_color=rainbow[cluster-1],\n",
        "        fill_opacity=0.7).add_to(map_suggestions)\n",
        "\n",
        "# add the spots as black circle markers\n",
        "for lat, lng in zip(spots_dataframe_filtered.lat, spots_dataframe_filtered.lng):\n",
        "    folium.CircleMarker(\n",
        "        [lat, lng],\n",
        "        radius=3,\n",
        "        color='black',\n",
        "       # popup=label, #translit(label ,reversed=True),\n",
        "        fill = True,\n",
        "        fill_color='red',\n",
        "        fill_opacity=0.6\n",
        "    ).add_to(map_suggestions)\n",
        "\n",
        "\n",
        "for i in range(df_new_space_search.shape[0]):\n",
        "  folium.Marker(\n",
        "      location=[df_new_space_search['lat'].iloc[i], df_new_space_search['lng'].iloc[i]],\n",
        "      popup=\"proposed loc \" + str(df_new_space_search['N_spots'].iloc[i])+\" offices around\",\n",
        "      icon=folium.Icon(color='green', icon='cloud')\n",
        "  ).add_to(map_suggestions)\n",
        "\n",
        "  idx=int(df_new_space_search['indx'].iloc[i])\n",
        "  \n",
        "  df_filter=df_best_cluster.iloc[indices[idx]]\n",
        "\n",
        "  points = []\n",
        "  for k in range(df_filter.shape[0]):\n",
        "      points.append([df_filter['lat'].iloc[k], df_filter['lng'].iloc[k]])\n",
        "  points.append([df_filter['lat'].iloc[0], df_filter['lng'].iloc[0]])\n",
        "\n",
        "  map_suggestions.add_child(folium.PolyLine(locations=points,weight=2,color='black'),index=i)\n",
        "\n",
        "#points\n",
        "map_suggestions"
      ],
      "execution_count": 74,
      "outputs": [
        {
          "output_type": "execute_result",
          "data": {
            "text/html": [
              "<div style=\"width:100%;\"><div style=\"position:relative;width:100%;height:0;padding-bottom:60%;\"><span style=\"color:#565656\">Make this Notebook Trusted to load map: File -> Trust Notebook</span><iframe src=\"about:blank\" style=\"position:absolute;width:100%;height:100%;left:0;top:0;border:none !important;\" data-html=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 onload=\"this.contentDocument.open();this.contentDocument.write(atob(this.getAttribute('data-html')));this.contentDocument.close();\" allowfullscreen webkitallowfullscreen mozallowfullscreen></iframe></div></div>"
            ],
            "text/plain": [
              "<folium.folium.Map at 0x7fbad1facc18>"
            ]
          },
          "metadata": {
            "tags": []
          },
          "execution_count": 74
        }
      ]
    },
    {
      "cell_type": "markdown",
      "metadata": {
        "id": "_Pbta5HEcuOK"
      },
      "source": [
        "# Results and Discussion"
      ]
    },
    {
      "cell_type": "markdown",
      "metadata": {
        "id": "zbJp7t6vv7Y3"
      },
      "source": [
        "The analisys shows that there are several areas\\clusters in the city center where people can fina a bar. The area around Arbat seems having the lowest density bars and has potential for new place to open\n",
        "\n",
        "Amoung the least occupied areas , \"Perichenskiy pereulok\" seems to have the highest potential due to 8 offcies location in walking distance"
      ]
    },
    {
      "cell_type": "markdown",
      "metadata": {
        "id": "vkG75bgJvjix"
      },
      "source": [
        "# Conclusions"
      ]
    },
    {
      "cell_type": "markdown",
      "metadata": {
        "id": "rRUJKxU5xKwN"
      },
      "source": [
        "the purpose of the project was to recommend a new bar located in the Moscow city, such that the place has a balance of far distance from existing bars and within people busy area. \n",
        "The logic of selection was to find the most suitable location as an infill in existing bars network. \n",
        "To achieve the goal the clustering analysis was used to define \"bars busy\" areas and the least dense area/cluster was further investigated to define the most \"bars empty\" region\n",
        "More advanced analysis of the people walking traffic and attraction spots (offices, clubs, shops) could further improve the recommendations"
      ]
    }
  ]
}